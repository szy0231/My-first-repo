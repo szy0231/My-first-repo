{
 "cells": [
  {
   "cell_type": "markdown",
   "metadata": {},
   "source": [
    "# This is a self-trained python file for quantitative trading.\n",
    "Shout out to Nick Mccullum, all stuff were adapted from his course https://www.youtube.com/watch?v=xfzGZB4HhEE\n",
    "Due to the collapse of IEX Cloud, an essential part of the orginal course was dead. Tryna put some change through yahoo finance.\n",
    "really premilanary content, but meant a lot personally, like first step towards a trading bot.\n",
    "Let's go boy."
   ]
  },
  {
   "cell_type": "markdown",
   "metadata": {},
   "source": [
    "1. Create an equal weight S&P 500 index Fund"
   ]
  },
  {
   "cell_type": "code",
   "execution_count": 63,
   "metadata": {},
   "outputs": [],
   "source": [
    "# library import\n",
    "import numpy as np\n",
    "import pandas as pd\n",
    "import math\n",
    "import yfinance as yf"
   ]
  },
  {
   "cell_type": "code",
   "execution_count": 64,
   "metadata": {},
   "outputs": [
    {
     "data": {
      "text/plain": [
       "0       MMM\n",
       "1       AOS\n",
       "2       ABT\n",
       "3      ABBV\n",
       "4       ACN\n",
       "       ... \n",
       "498     XYL\n",
       "499     YUM\n",
       "500    ZBRA\n",
       "501     ZBH\n",
       "502     ZTS\n",
       "Name: Symbol, Length: 503, dtype: object"
      ]
     },
     "execution_count": 64,
     "metadata": {},
     "output_type": "execute_result"
    }
   ],
   "source": [
    "# get a S&P 500's stock tickers' first\n",
    "# get a table data (or one of its columns) from any website\n",
    "\n",
    "stocks= pd.read_html('https://en.wikipedia.org/wiki/List_of_S%26P_500_companies')[0]['Symbol']\n",
    "stocks"
   ]
  },
  {
   "cell_type": "markdown",
   "metadata": {},
   "source": [
    "# what we gonna do:\n",
    "# we gonna put a trading bot such that\n",
    "# we put an amount of money, like £100,000\n",
    "# I may know how much shares, for each stock within SP 500, to buy"
   ]
  },
  {
   "cell_type": "code",
   "execution_count": 65,
   "metadata": {},
   "outputs": [],
   "source": [
    "\n",
    "#put Series to list\n",
    "tickers_list = stocks.tolist()\n",
    "\n"
   ]
  },
  {
   "cell_type": "markdown",
   "metadata": {},
   "source": [
    "# we need to get each stock's price, here we use \"regular market open price\"\n",
    "# to request data from yahoo finance, we need to cut down our requests limits, thus using batch calls method"
   ]
  },
  {
   "cell_type": "code",
   "execution_count": null,
   "metadata": {},
   "outputs": [],
   "source": [
    "# firstly, create chunk tickers\n",
    "# and request data\n",
    "chunk_size=100\n",
    "results=[]\n",
    "# loop\n",
    "for i in range (0,len(tickers_list),chunk_size):\n",
    "    chunk_tickers = tickers_list[i:i+chunk_size]\n",
    "    print(chunk_tickers)\n",
    "    print(type(chunk_tickers))\n",
    "    chunk_str = ' '.join(chunk_tickers)\n",
    "    print(chunk_str)\n",
    "    # preparation done\n",
    "    chunk = yf.Tickers(chunk_str)\n",
    "    for ticker in chunk_tickers:\n",
    "        info = chunk.tickers[ticker].info\n",
    "        price = info.get(\"regularMarketOpen\")\n",
    "        market_cap =info.get(\"marketCap\")\n",
    "        #加入字典\n",
    "        results.append({\n",
    "            \"Ticker\": ticker,\n",
    "            \"Price\": price,\n",
    "            \"MarketCap\": market_cap,\n",
    "            \"Number Of Shares to Buy\":\"N/A\"\n",
    "        })\n",
    "\n",
    "print(results)\n",
    "### WOWWWWW\n",
    "version_1= pd.DataFrame(results)\n",
    "print(version_1)\n",
    "# Finally done!!!!!!!!!!!!!!"
   ]
  },
  {
   "cell_type": "code",
   "execution_count": null,
   "metadata": {},
   "outputs": [],
   "source": [
    "# Data management!!\n",
    "# drop rows without price\n",
    "print(len(version_1))\n",
    "final_dataframe=version_1.dropna(subset=['Price'])\n",
    "print(len(final_dataframe))\n",
    "print(final_dataframe)\n",
    "# integrate rows without leaving blank rows\n",
    "final_dataframe=final_dataframe.reset_index(drop=True)"
   ]
  },
  {
   "cell_type": "code",
   "execution_count": null,
   "metadata": {},
   "outputs": [],
   "source": [
    "# Set the portfolio_size\n",
    "portfolio_size=input(\"Enter the value of your portfolio\")\n",
    "\n",
    "try:\n",
    "    val=float(portfolio_size)\n",
    "except ValueError:\n",
    "    print(\"That is not a number!\")\n",
    "    portfolio_size=input(\"Enter the value of your portfolio\")\n",
    "\n",
    "print(f\"I have invested {portfolio_size}!\")"
   ]
  },
  {
   "cell_type": "markdown",
   "metadata": {},
   "source": [
    "# 最后，计算\n",
    "# calculate!!"
   ]
  },
  {
   "cell_type": "code",
   "execution_count": null,
   "metadata": {},
   "outputs": [],
   "source": [
    "print(portfolio_size)\n",
    "#Calculate the number of shares to buy\n",
    "# 1 first we calculate the position_size: \n",
    "# let's say your portfolio_size is £10000, if we have 502 stock, each position_size should be £10,000/502 = £19\n",
    "position_size=float(portfolio_size)/len(final_dataframe)\n",
    "print(position_size)\n",
    "\n",
    "print(final_dataframe.loc[1,\"Number Of Shares to Buy\"])\n",
    "print(math.floor(position_size / final_dataframe['Price'][2]))\n",
    "for i in range(0,len(final_dataframe)):\n",
    "    # 上面是后加的loop，地下是对于每一个i的操作\n",
    "    final_dataframe.loc[i,'Number Of Shares to Buy'] = math.floor(position_size / final_dataframe['Price'][i])\n",
    "    #math.floor make sure you only get a nearest integer less than your result\n",
    "#我靠终于搞定了\n",
    "print(final_dataframe)\n",
    "\n"
   ]
  },
  {
   "cell_type": "markdown",
   "metadata": {},
   "source": [
    "# put it as excel\n",
    "final_dataframe.to_excel('final_dataframe.xlsx',\n",
    "                         sheet_name=\"1\",\n",
    "                         index=False)\n",
    "                        "
   ]
  }
 ],
 "metadata": {
  "kernelspec": {
   "display_name": "Python 3",
   "language": "python",
   "name": "python3"
  },
  "language_info": {
   "codemirror_mode": {
    "name": "ipython",
    "version": 3
   },
   "file_extension": ".py",
   "mimetype": "text/x-python",
   "name": "python",
   "nbconvert_exporter": "python",
   "pygments_lexer": "ipython3",
   "version": "3.12.5"
  }
 },
 "nbformat": 4,
 "nbformat_minor": 2
}
